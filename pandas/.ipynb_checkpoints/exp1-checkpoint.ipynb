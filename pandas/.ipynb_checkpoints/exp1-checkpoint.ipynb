{
 "cells": [
  {
   "cell_type": "code",
   "execution_count": 1,
   "metadata": {},
   "outputs": [],
   "source": [
    "import pandas as pd\n",
    "import copy"
   ]
  },
  {
   "cell_type": "code",
   "execution_count": 2,
   "metadata": {},
   "outputs": [],
   "source": [
    "data_collection_cctv = []\n",
    "data_collection_cctv.append(pd.read_csv(\"./data/대구광역시_CCTV_20190624.csv\", encoding=\"ansi\"))"
   ]
  },
  {
   "cell_type": "code",
   "execution_count": 3,
   "metadata": {},
   "outputs": [
    {
     "data": {
      "text/html": [
       "<div>\n",
       "<style scoped>\n",
       "    .dataframe tbody tr th:only-of-type {\n",
       "        vertical-align: middle;\n",
       "    }\n",
       "\n",
       "    .dataframe tbody tr th {\n",
       "        vertical-align: top;\n",
       "    }\n",
       "\n",
       "    .dataframe thead th {\n",
       "        text-align: right;\n",
       "    }\n",
       "</style>\n",
       "<table border=\"1\" class=\"dataframe\">\n",
       "  <thead>\n",
       "    <tr style=\"text-align: right;\">\n",
       "      <th></th>\n",
       "      <th>관리기관명</th>\n",
       "      <th>소재지도로명주소</th>\n",
       "      <th>소재지지번주소</th>\n",
       "      <th>설치목적구분</th>\n",
       "      <th>카메라대수</th>\n",
       "      <th>카메라화소수</th>\n",
       "      <th>촬영방면정보</th>\n",
       "      <th>보관일수</th>\n",
       "      <th>설치년월</th>\n",
       "      <th>관리기관전화번호</th>\n",
       "      <th>위도</th>\n",
       "      <th>경도</th>\n",
       "      <th>데이터기준일자</th>\n",
       "    </tr>\n",
       "  </thead>\n",
       "  <tbody>\n",
       "    <tr>\n",
       "      <th>0</th>\n",
       "      <td>대구광역시청</td>\n",
       "      <td>대구광역시 달성군 구지면 응암리 646</td>\n",
       "      <td>대구광역시 달성군 구지면 응암리 646</td>\n",
       "      <td>교통정보수집</td>\n",
       "      <td>1</td>\n",
       "      <td>200</td>\n",
       "      <td>자동차 진행 방면</td>\n",
       "      <td>NaN</td>\n",
       "      <td>2016-11</td>\n",
       "      <td>053-803-4573</td>\n",
       "      <td>35.647368</td>\n",
       "      <td>128.415547</td>\n",
       "      <td>2019-06-21</td>\n",
       "    </tr>\n",
       "    <tr>\n",
       "      <th>1</th>\n",
       "      <td>대구광역시청</td>\n",
       "      <td>대구광역시 달성군 구지면 화산리 704</td>\n",
       "      <td>대구광역시 달성군 구지면 화산리 704</td>\n",
       "      <td>교통정보수집</td>\n",
       "      <td>1</td>\n",
       "      <td>200</td>\n",
       "      <td>자동차 진행 방면</td>\n",
       "      <td>NaN</td>\n",
       "      <td>2016-11</td>\n",
       "      <td>053-803-4573</td>\n",
       "      <td>35.664422</td>\n",
       "      <td>128.399093</td>\n",
       "      <td>2019-06-21</td>\n",
       "    </tr>\n",
       "    <tr>\n",
       "      <th>2</th>\n",
       "      <td>대구광역시청</td>\n",
       "      <td>대구광역시 동구 국채보상로 827</td>\n",
       "      <td>대구광역시 동구 신천3동 850-6</td>\n",
       "      <td>교통단속</td>\n",
       "      <td>1</td>\n",
       "      <td>130</td>\n",
       "      <td>버스전용차로 차량 진행방면</td>\n",
       "      <td>NaN</td>\n",
       "      <td>1999-11</td>\n",
       "      <td>053-803-4887</td>\n",
       "      <td>35.868401</td>\n",
       "      <td>128.620247</td>\n",
       "      <td>2019-06-21</td>\n",
       "    </tr>\n",
       "  </tbody>\n",
       "</table>\n",
       "</div>"
      ],
      "text/plain": [
       "    관리기관명               소재지도로명주소                소재지지번주소  설치목적구분  카메라대수  \\\n",
       "0  대구광역시청  대구광역시 달성군 구지면 응암리 646  대구광역시 달성군 구지면 응암리 646  교통정보수집      1   \n",
       "1  대구광역시청  대구광역시 달성군 구지면 화산리 704  대구광역시 달성군 구지면 화산리 704  교통정보수집      1   \n",
       "2  대구광역시청     대구광역시 동구 국채보상로 827    대구광역시 동구 신천3동 850-6    교통단속      1   \n",
       "\n",
       "   카메라화소수          촬영방면정보  보관일수     설치년월      관리기관전화번호         위도          경도  \\\n",
       "0     200       자동차 진행 방면   NaN  2016-11  053-803-4573  35.647368  128.415547   \n",
       "1     200       자동차 진행 방면   NaN  2016-11  053-803-4573  35.664422  128.399093   \n",
       "2     130  버스전용차로 차량 진행방면   NaN  1999-11  053-803-4887  35.868401  128.620247   \n",
       "\n",
       "      데이터기준일자  \n",
       "0  2019-06-21  \n",
       "1  2019-06-21  \n",
       "2  2019-06-21  "
      ]
     },
     "execution_count": 3,
     "metadata": {},
     "output_type": "execute_result"
    }
   ],
   "source": [
    "data_collection_cctv[0].head(3)"
   ]
  },
  {
   "cell_type": "code",
   "execution_count": 4,
   "metadata": {},
   "outputs": [],
   "source": [
    "data_collection_cctv.append(copy.deepcopy(data_collection_cctv[0][[\"소재지도로명주소\", \"카메라대수\"]]))"
   ]
  },
  {
   "cell_type": "code",
   "execution_count": 5,
   "metadata": {},
   "outputs": [
    {
     "data": {
      "text/html": [
       "<div>\n",
       "<style scoped>\n",
       "    .dataframe tbody tr th:only-of-type {\n",
       "        vertical-align: middle;\n",
       "    }\n",
       "\n",
       "    .dataframe tbody tr th {\n",
       "        vertical-align: top;\n",
       "    }\n",
       "\n",
       "    .dataframe thead th {\n",
       "        text-align: right;\n",
       "    }\n",
       "</style>\n",
       "<table border=\"1\" class=\"dataframe\">\n",
       "  <thead>\n",
       "    <tr style=\"text-align: right;\">\n",
       "      <th></th>\n",
       "      <th>소재지도로명주소</th>\n",
       "      <th>카메라대수</th>\n",
       "    </tr>\n",
       "  </thead>\n",
       "  <tbody>\n",
       "    <tr>\n",
       "      <th>0</th>\n",
       "      <td>대구광역시 달성군 구지면 응암리 646</td>\n",
       "      <td>1</td>\n",
       "    </tr>\n",
       "    <tr>\n",
       "      <th>1</th>\n",
       "      <td>대구광역시 달성군 구지면 화산리 704</td>\n",
       "      <td>1</td>\n",
       "    </tr>\n",
       "    <tr>\n",
       "      <th>2</th>\n",
       "      <td>대구광역시 동구 국채보상로 827</td>\n",
       "      <td>1</td>\n",
       "    </tr>\n",
       "  </tbody>\n",
       "</table>\n",
       "</div>"
      ],
      "text/plain": [
       "                소재지도로명주소  카메라대수\n",
       "0  대구광역시 달성군 구지면 응암리 646      1\n",
       "1  대구광역시 달성군 구지면 화산리 704      1\n",
       "2     대구광역시 동구 국채보상로 827      1"
      ]
     },
     "execution_count": 5,
     "metadata": {},
     "output_type": "execute_result"
    }
   ],
   "source": [
    "data_collection_cctv[1].head(3)"
   ]
  },
  {
   "cell_type": "code",
   "execution_count": 6,
   "metadata": {},
   "outputs": [],
   "source": [
    "data_collection_cctv.append(copy.deepcopy(data_collection_cctv[1]))\n",
    "d1 = data_collection_cctv[1][\"소재지도로명주소\"]\n",
    "data_collection_cctv[2][\"소재지도로명주소\"] = d1.map(lambda a : a.split()[1])"
   ]
  },
  {
   "cell_type": "code",
   "execution_count": 7,
   "metadata": {},
   "outputs": [],
   "source": [
    "df = pd.DataFrame(data_collection_cctv[2])\n",
    "data_collection_cctv.append(copy.deepcopy(df.pivot_table(columns=[\"소재지도로명주소\"], aggfunc=sum).T))"
   ]
  },
  {
   "cell_type": "code",
   "execution_count": 8,
   "metadata": {},
   "outputs": [
    {
     "data": {
      "text/html": [
       "<div>\n",
       "<style scoped>\n",
       "    .dataframe tbody tr th:only-of-type {\n",
       "        vertical-align: middle;\n",
       "    }\n",
       "\n",
       "    .dataframe tbody tr th {\n",
       "        vertical-align: top;\n",
       "    }\n",
       "\n",
       "    .dataframe thead th {\n",
       "        text-align: right;\n",
       "    }\n",
       "</style>\n",
       "<table border=\"1\" class=\"dataframe\">\n",
       "  <thead>\n",
       "    <tr style=\"text-align: right;\">\n",
       "      <th></th>\n",
       "      <th>카메라대수</th>\n",
       "    </tr>\n",
       "    <tr>\n",
       "      <th>소재지도로명주소</th>\n",
       "      <th></th>\n",
       "    </tr>\n",
       "  </thead>\n",
       "  <tbody>\n",
       "    <tr>\n",
       "      <th>남구</th>\n",
       "      <td>22</td>\n",
       "    </tr>\n",
       "    <tr>\n",
       "      <th>달서구</th>\n",
       "      <td>63</td>\n",
       "    </tr>\n",
       "    <tr>\n",
       "      <th>달성군</th>\n",
       "      <td>21</td>\n",
       "    </tr>\n",
       "  </tbody>\n",
       "</table>\n",
       "</div>"
      ],
      "text/plain": [
       "          카메라대수\n",
       "소재지도로명주소       \n",
       "남구           22\n",
       "달서구          63\n",
       "달성군          21"
      ]
     },
     "execution_count": 8,
     "metadata": {},
     "output_type": "execute_result"
    }
   ],
   "source": [
    "data_collection_cctv[3].head(3)"
   ]
  },
  {
   "cell_type": "code",
   "execution_count": 9,
   "metadata": {},
   "outputs": [],
   "source": [
    "df = pd.DataFrame(data_collection_cctv[3])\n",
    "data_collection_cctv.append(copy.deepcopy(df.drop('청도군')))\n",
    "data_collection_cctv[4].index.name = \"구역\""
   ]
  },
  {
   "cell_type": "code",
   "execution_count": 10,
   "metadata": {},
   "outputs": [
    {
     "data": {
      "text/html": [
       "<div>\n",
       "<style scoped>\n",
       "    .dataframe tbody tr th:only-of-type {\n",
       "        vertical-align: middle;\n",
       "    }\n",
       "\n",
       "    .dataframe tbody tr th {\n",
       "        vertical-align: top;\n",
       "    }\n",
       "\n",
       "    .dataframe thead th {\n",
       "        text-align: right;\n",
       "    }\n",
       "</style>\n",
       "<table border=\"1\" class=\"dataframe\">\n",
       "  <thead>\n",
       "    <tr style=\"text-align: right;\">\n",
       "      <th></th>\n",
       "      <th>카메라대수</th>\n",
       "    </tr>\n",
       "    <tr>\n",
       "      <th>구역</th>\n",
       "      <th></th>\n",
       "    </tr>\n",
       "  </thead>\n",
       "  <tbody>\n",
       "    <tr>\n",
       "      <th>남구</th>\n",
       "      <td>22</td>\n",
       "    </tr>\n",
       "    <tr>\n",
       "      <th>달서구</th>\n",
       "      <td>63</td>\n",
       "    </tr>\n",
       "    <tr>\n",
       "      <th>달성군</th>\n",
       "      <td>21</td>\n",
       "    </tr>\n",
       "    <tr>\n",
       "      <th>동구</th>\n",
       "      <td>64</td>\n",
       "    </tr>\n",
       "    <tr>\n",
       "      <th>북구</th>\n",
       "      <td>32</td>\n",
       "    </tr>\n",
       "    <tr>\n",
       "      <th>서구</th>\n",
       "      <td>26</td>\n",
       "    </tr>\n",
       "    <tr>\n",
       "      <th>수성구</th>\n",
       "      <td>36</td>\n",
       "    </tr>\n",
       "    <tr>\n",
       "      <th>중구</th>\n",
       "      <td>43</td>\n",
       "    </tr>\n",
       "  </tbody>\n",
       "</table>\n",
       "</div>"
      ],
      "text/plain": [
       "     카메라대수\n",
       "구역        \n",
       "남구      22\n",
       "달서구     63\n",
       "달성군     21\n",
       "동구      64\n",
       "북구      32\n",
       "서구      26\n",
       "수성구     36\n",
       "중구      43"
      ]
     },
     "execution_count": 10,
     "metadata": {},
     "output_type": "execute_result"
    }
   ],
   "source": [
    "data_collection_cctv[4]"
   ]
  },
  {
   "cell_type": "code",
   "execution_count": 11,
   "metadata": {},
   "outputs": [],
   "source": [
    "data_collection_population = []\n",
    "data_collection_population.append(pd.read_csv(\"./data/2019.6.30.기준 대구광역시 주민등록인구 현황.csv\", thousands=',', encoding=\"ansi\"))"
   ]
  },
  {
   "cell_type": "code",
   "execution_count": 12,
   "metadata": {},
   "outputs": [
    {
     "data": {
      "text/html": [
       "<div>\n",
       "<style scoped>\n",
       "    .dataframe tbody tr th:only-of-type {\n",
       "        vertical-align: middle;\n",
       "    }\n",
       "\n",
       "    .dataframe tbody tr th {\n",
       "        vertical-align: top;\n",
       "    }\n",
       "\n",
       "    .dataframe thead th {\n",
       "        text-align: right;\n",
       "    }\n",
       "</style>\n",
       "<table border=\"1\" class=\"dataframe\">\n",
       "  <thead>\n",
       "    <tr style=\"text-align: right;\">\n",
       "      <th></th>\n",
       "      <th>행정구역</th>\n",
       "      <th>총계</th>\n",
       "      <th>총계 남</th>\n",
       "      <th>총계 여</th>\n",
       "      <th>중구 계</th>\n",
       "      <th>중구 남</th>\n",
       "      <th>중구 여</th>\n",
       "      <th>동구 계</th>\n",
       "      <th>동구 남</th>\n",
       "      <th>동구 여</th>\n",
       "      <th>...</th>\n",
       "      <th>북구 여</th>\n",
       "      <th>수성구 계</th>\n",
       "      <th>수성구 남</th>\n",
       "      <th>수성구 여</th>\n",
       "      <th>달서구 계</th>\n",
       "      <th>달서구 남</th>\n",
       "      <th>달서구 여</th>\n",
       "      <th>달성군 계</th>\n",
       "      <th>달성군 남</th>\n",
       "      <th>달성군 여</th>\n",
       "    </tr>\n",
       "  </thead>\n",
       "  <tbody>\n",
       "    <tr>\n",
       "      <th>0</th>\n",
       "      <td>0세</td>\n",
       "      <td>13085</td>\n",
       "      <td>6754</td>\n",
       "      <td>6331</td>\n",
       "      <td>456</td>\n",
       "      <td>228</td>\n",
       "      <td>228</td>\n",
       "      <td>2019</td>\n",
       "      <td>1021</td>\n",
       "      <td>998</td>\n",
       "      <td>...</td>\n",
       "      <td>1221</td>\n",
       "      <td>1565</td>\n",
       "      <td>839</td>\n",
       "      <td>726</td>\n",
       "      <td>2771</td>\n",
       "      <td>1413</td>\n",
       "      <td>1358</td>\n",
       "      <td>2660</td>\n",
       "      <td>1358</td>\n",
       "      <td>1302</td>\n",
       "    </tr>\n",
       "    <tr>\n",
       "      <th>1</th>\n",
       "      <td>1세</td>\n",
       "      <td>15384</td>\n",
       "      <td>7854</td>\n",
       "      <td>7530</td>\n",
       "      <td>524</td>\n",
       "      <td>273</td>\n",
       "      <td>251</td>\n",
       "      <td>2401</td>\n",
       "      <td>1235</td>\n",
       "      <td>1166</td>\n",
       "      <td>...</td>\n",
       "      <td>1434</td>\n",
       "      <td>1964</td>\n",
       "      <td>986</td>\n",
       "      <td>978</td>\n",
       "      <td>3370</td>\n",
       "      <td>1780</td>\n",
       "      <td>1590</td>\n",
       "      <td>2885</td>\n",
       "      <td>1429</td>\n",
       "      <td>1456</td>\n",
       "    </tr>\n",
       "    <tr>\n",
       "      <th>2</th>\n",
       "      <td>2세</td>\n",
       "      <td>17580</td>\n",
       "      <td>9026</td>\n",
       "      <td>8554</td>\n",
       "      <td>588</td>\n",
       "      <td>293</td>\n",
       "      <td>295</td>\n",
       "      <td>2718</td>\n",
       "      <td>1429</td>\n",
       "      <td>1289</td>\n",
       "      <td>...</td>\n",
       "      <td>1682</td>\n",
       "      <td>2387</td>\n",
       "      <td>1217</td>\n",
       "      <td>1170</td>\n",
       "      <td>3836</td>\n",
       "      <td>2028</td>\n",
       "      <td>1808</td>\n",
       "      <td>3138</td>\n",
       "      <td>1579</td>\n",
       "      <td>1559</td>\n",
       "    </tr>\n",
       "  </tbody>\n",
       "</table>\n",
       "<p>3 rows × 28 columns</p>\n",
       "</div>"
      ],
      "text/plain": [
       "  행정구역     총계  총계 남  총계 여  중구 계   중구 남  중구 여  동구 계   동구 남  동구 여  ...  북구 여  \\\n",
       "0   0세  13085  6754  6331    456   228   228   2019  1021   998  ...  1221   \n",
       "1   1세  15384  7854  7530    524   273   251   2401  1235  1166  ...  1434   \n",
       "2   2세  17580  9026  8554    588   293   295   2718  1429  1289  ...  1682   \n",
       "\n",
       "   수성구 계   수성구 남  수성구 여  달서구 계  달서구 남  달서구 여  달성군 계  달성군 남  달성군 여  \n",
       "0    1565    839    726   2771   1413   1358   2660   1358   1302  \n",
       "1    1964    986    978   3370   1780   1590   2885   1429   1456  \n",
       "2    2387   1217   1170   3836   2028   1808   3138   1579   1559  \n",
       "\n",
       "[3 rows x 28 columns]"
      ]
     },
     "execution_count": 12,
     "metadata": {},
     "output_type": "execute_result"
    }
   ],
   "source": [
    "data_collection_population[0].head(3)"
   ]
  },
  {
   "cell_type": "code",
   "execution_count": 13,
   "metadata": {},
   "outputs": [
    {
     "data": {
      "text/plain": [
       "Index(['행정구역', '총계', '총계 남', '총계 여', '중구 계 ', '중구 남', '중구 여', '동구 계 ', '동구 남',\n",
       "       '동구 여', '서구 계', '서구 남', '서구 여', '남구 계', '남구 남', '남구 여 ', '북구 계 ',\n",
       "       '북구 남', '북구 여', '수성구 계 ', '수성구 남', '수성구 여', '달서구 계', '달서구 남', '달서구 여',\n",
       "       '달성군 계', '달성군 남', '달성군 여'],\n",
       "      dtype='object')"
      ]
     },
     "execution_count": 13,
     "metadata": {},
     "output_type": "execute_result"
    }
   ],
   "source": [
    "data_collection_population[0].columns"
   ]
  },
  {
   "cell_type": "code",
   "execution_count": 14,
   "metadata": {},
   "outputs": [],
   "source": [
    "d1 = data_collection_population[0][['중구 계 ', '동구 계 ', '서구 계', '남구 계', '북구 계 ', '수성구 계 ', '달서구 계', '달성군 계']]\n",
    "data_collection_population.append(copy.deepcopy(d1))"
   ]
  },
  {
   "cell_type": "code",
   "execution_count": 15,
   "metadata": {},
   "outputs": [
    {
     "data": {
      "text/html": [
       "<div>\n",
       "<style scoped>\n",
       "    .dataframe tbody tr th:only-of-type {\n",
       "        vertical-align: middle;\n",
       "    }\n",
       "\n",
       "    .dataframe tbody tr th {\n",
       "        vertical-align: top;\n",
       "    }\n",
       "\n",
       "    .dataframe thead th {\n",
       "        text-align: right;\n",
       "    }\n",
       "</style>\n",
       "<table border=\"1\" class=\"dataframe\">\n",
       "  <thead>\n",
       "    <tr style=\"text-align: right;\">\n",
       "      <th></th>\n",
       "      <th>중구 계</th>\n",
       "      <th>동구 계</th>\n",
       "      <th>서구 계</th>\n",
       "      <th>남구 계</th>\n",
       "      <th>북구 계</th>\n",
       "      <th>수성구 계</th>\n",
       "      <th>달서구 계</th>\n",
       "      <th>달성군 계</th>\n",
       "    </tr>\n",
       "  </thead>\n",
       "  <tbody>\n",
       "    <tr>\n",
       "      <th>0</th>\n",
       "      <td>456</td>\n",
       "      <td>2019</td>\n",
       "      <td>559</td>\n",
       "      <td>532</td>\n",
       "      <td>2523</td>\n",
       "      <td>1565</td>\n",
       "      <td>2771</td>\n",
       "      <td>2660</td>\n",
       "    </tr>\n",
       "    <tr>\n",
       "      <th>1</th>\n",
       "      <td>524</td>\n",
       "      <td>2401</td>\n",
       "      <td>688</td>\n",
       "      <td>598</td>\n",
       "      <td>2954</td>\n",
       "      <td>1964</td>\n",
       "      <td>3370</td>\n",
       "      <td>2885</td>\n",
       "    </tr>\n",
       "    <tr>\n",
       "      <th>2</th>\n",
       "      <td>588</td>\n",
       "      <td>2718</td>\n",
       "      <td>852</td>\n",
       "      <td>675</td>\n",
       "      <td>3386</td>\n",
       "      <td>2387</td>\n",
       "      <td>3836</td>\n",
       "      <td>3138</td>\n",
       "    </tr>\n",
       "  </tbody>\n",
       "</table>\n",
       "</div>"
      ],
      "text/plain": [
       "   중구 계   동구 계   서구 계  남구 계  북구 계   수성구 계   달서구 계  달성군 계\n",
       "0    456   2019   559   532   2523    1565   2771   2660\n",
       "1    524   2401   688   598   2954    1964   3370   2885\n",
       "2    588   2718   852   675   3386    2387   3836   3138"
      ]
     },
     "execution_count": 15,
     "metadata": {},
     "output_type": "execute_result"
    }
   ],
   "source": [
    "data_collection_population[1].head(3)"
   ]
  },
  {
   "cell_type": "code",
   "execution_count": 16,
   "metadata": {},
   "outputs": [
    {
     "data": {
      "text/plain": [
       "Index(['중구 계 ', '동구 계 ', '서구 계', '남구 계', '북구 계 ', '수성구 계 ', '달서구 계', '달성군 계'], dtype='object')"
      ]
     },
     "execution_count": 16,
     "metadata": {},
     "output_type": "execute_result"
    }
   ],
   "source": [
    "data_collection_population[1].columns"
   ]
  },
  {
   "cell_type": "code",
   "execution_count": 17,
   "metadata": {},
   "outputs": [],
   "source": [
    "d1 = data_collection_population[1].columns\n",
    "data_collection_population[1].columns = d1.map(lambda a : a.split()[0])"
   ]
  },
  {
   "cell_type": "code",
   "execution_count": 18,
   "metadata": {},
   "outputs": [],
   "source": [
    "df = pd.DataFrame(data_collection_population[1], dtype=int)\n",
    "d1 = df.T\n",
    "d1.index.name = \"구역\"\n",
    "df = pd.DataFrame(d1.sum(axis = 1)).rename(columns={0 : '인구'})\n",
    "data_collection_population.append(copy.deepcopy(df))"
   ]
  },
  {
   "cell_type": "code",
   "execution_count": 19,
   "metadata": {},
   "outputs": [
    {
     "data": {
      "text/html": [
       "<div>\n",
       "<style scoped>\n",
       "    .dataframe tbody tr th:only-of-type {\n",
       "        vertical-align: middle;\n",
       "    }\n",
       "\n",
       "    .dataframe tbody tr th {\n",
       "        vertical-align: top;\n",
       "    }\n",
       "\n",
       "    .dataframe thead th {\n",
       "        text-align: right;\n",
       "    }\n",
       "</style>\n",
       "<table border=\"1\" class=\"dataframe\">\n",
       "  <thead>\n",
       "    <tr style=\"text-align: right;\">\n",
       "      <th></th>\n",
       "      <th>인구</th>\n",
       "    </tr>\n",
       "    <tr>\n",
       "      <th>구역</th>\n",
       "      <th></th>\n",
       "    </tr>\n",
       "  </thead>\n",
       "  <tbody>\n",
       "    <tr>\n",
       "      <th>중구</th>\n",
       "      <td>77935</td>\n",
       "    </tr>\n",
       "    <tr>\n",
       "      <th>동구</th>\n",
       "      <td>348825</td>\n",
       "    </tr>\n",
       "    <tr>\n",
       "      <th>서구</th>\n",
       "      <td>179920</td>\n",
       "    </tr>\n",
       "  </tbody>\n",
       "</table>\n",
       "</div>"
      ],
      "text/plain": [
       "        인구\n",
       "구역        \n",
       "중구   77935\n",
       "동구  348825\n",
       "서구  179920"
      ]
     },
     "execution_count": 19,
     "metadata": {},
     "output_type": "execute_result"
    }
   ],
   "source": [
    "data_collection_population[2].head(3)"
   ]
  },
  {
   "cell_type": "code",
   "execution_count": 20,
   "metadata": {},
   "outputs": [],
   "source": [
    "df1 = pd.DataFrame(data_collection_cctv[4])\n",
    "df2 = pd.DataFrame(data_collection_population[2])\n",
    "data_collection_table = []\n",
    "data_collection_table.append(pd.merge(df2, df1, on='구역'))"
   ]
  },
  {
   "cell_type": "code",
   "execution_count": 29,
   "metadata": {},
   "outputs": [
    {
     "data": {
      "text/html": [
       "<div>\n",
       "<style scoped>\n",
       "    .dataframe tbody tr th:only-of-type {\n",
       "        vertical-align: middle;\n",
       "    }\n",
       "\n",
       "    .dataframe tbody tr th {\n",
       "        vertical-align: top;\n",
       "    }\n",
       "\n",
       "    .dataframe thead th {\n",
       "        text-align: right;\n",
       "    }\n",
       "</style>\n",
       "<table border=\"1\" class=\"dataframe\">\n",
       "  <thead>\n",
       "    <tr style=\"text-align: right;\">\n",
       "      <th></th>\n",
       "      <th>인구</th>\n",
       "      <th>카메라대수</th>\n",
       "    </tr>\n",
       "    <tr>\n",
       "      <th>구역</th>\n",
       "      <th></th>\n",
       "      <th></th>\n",
       "    </tr>\n",
       "  </thead>\n",
       "  <tbody>\n",
       "    <tr>\n",
       "      <th>중구</th>\n",
       "      <td>77935</td>\n",
       "      <td>43</td>\n",
       "    </tr>\n",
       "    <tr>\n",
       "      <th>동구</th>\n",
       "      <td>348825</td>\n",
       "      <td>64</td>\n",
       "    </tr>\n",
       "    <tr>\n",
       "      <th>서구</th>\n",
       "      <td>179920</td>\n",
       "      <td>26</td>\n",
       "    </tr>\n",
       "  </tbody>\n",
       "</table>\n",
       "</div>"
      ],
      "text/plain": [
       "        인구  카메라대수\n",
       "구역               \n",
       "중구   77935     43\n",
       "동구  348825     64\n",
       "서구  179920     26"
      ]
     },
     "execution_count": 29,
     "metadata": {},
     "output_type": "execute_result"
    }
   ],
   "source": [
    "data_collection_table[0].head(3)"
   ]
  },
  {
   "cell_type": "code",
   "execution_count": 21,
   "metadata": {},
   "outputs": [],
   "source": [
    "from matplotlib import pyplot as plt"
   ]
  },
  {
   "cell_type": "code",
   "execution_count": 35,
   "metadata": {},
   "outputs": [
    {
     "data": {
      "image/png": "[encoded data removed]",
      "text/plain": [
       "<Figure size 432x288 with 1 Axes>"
      ]
     },
     "metadata": {
      "needs_background": "light"
     },
     "output_type": "display_data"
    }
   ],
   "source": [
    "plt.scatter( data_collection_table[0]['인구'],data_collection_table[0]['카메라대수'], s=50 )\n",
    "plt.xlabel('population')\n",
    "plt.ylabel('CCTV')\n",
    "plt.grid()\n",
    "plt.show()"
   ]
  },
  {
   "cell_type": "code",
   "execution_count": null,
   "metadata": {},
   "outputs": [],
   "source": []
  }
 ],
 "metadata": {
  "kernelspec": {
   "display_name": "Python 3",
   "language": "python",
   "name": "python3"
  },
  "language_info": {
   "codemirror_mode": {
    "name": "ipython",
    "version": 3
   },
   "file_extension": ".py",
   "mimetype": "text/x-python",
   "name": "python",
   "nbconvert_exporter": "python",
   "pygments_lexer": "ipython3",
   "version": "3.7.3"
  }
 },
 "nbformat": 4,
 "nbformat_minor": 4
}
